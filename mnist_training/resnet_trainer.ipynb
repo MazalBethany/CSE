{
 "cells": [
  {
   "cell_type": "code",
   "execution_count": 1,
   "id": "047adff5-62af-4f6c-a1f1-4ce425eecc71",
   "metadata": {},
   "outputs": [
    {
     "name": "stdout",
     "output_type": "stream",
     "text": [
      "Model loaded on device: cuda:0\n",
      "\n",
      "Epoch: 0 | Batch_SZ: 128 | Steps: 422 | T_loss: inf | V_loss: inf\n",
      "Training snapshot saved after Epoch: 1 | save_name: training_saves/grad_cam_model.pt\n",
      "Current Train Time: 0.0 hours & 0.20 minutes\n",
      "Training snapshot saved after Epoch: 2 | save_name: training_saves/grad_cam_model.pt\n",
      "Training snapshot saved after Epoch: 5 | save_name: training_saves/grad_cam_model.pt\n",
      "Training snapshot saved after Epoch: 6 | save_name: training_saves/grad_cam_model.pt\n",
      "Training completed -> Total train time: 75.55 seconds\n",
      "Test Loss: 0.038791\n",
      "\n",
      "Test Accuracy of Class: 0                  : 99.80% (978/980)\n",
      "Test Accuracy of Class: 1                  : 98.85% (1122/1135)\n",
      "Test Accuracy of Class: 2                  : 99.61% (1028/1032)\n",
      "Test Accuracy of Class: 3                  : 99.70% (1007/1010)\n",
      "Test Accuracy of Class: 4                  : 97.86% (961/982)\n",
      "Test Accuracy of Class: 5                  : 97.20% (867/892)\n",
      "Test Accuracy of Class: 6                  : 99.06% (949/958)\n",
      "Test Accuracy of Class: 7                  : 98.83% (1016/1028)\n",
      "Test Accuracy of Class: 8                  : 99.38% (968/974)\n",
      "Test Accuracy of Class: 9                  : 97.62% (985/1009)\n",
      "\n",
      "Test Accuracy (Overall): 98.81% (9881/10000)\n",
      "Training & Testing Completed\n",
      "Model saved at MNIST_models/grad_cam_model.pt\n"
     ]
    }
   ],
   "source": [
    "import torch\n",
    "from trainer import *\n",
    "\n",
    "\n",
    "snapshot_name = 'grad_cam_model.pt'\n",
    "labels_map = {\n",
    "    0: '0',\n",
    "    1: '1',\n",
    "    2: '2',\n",
    "    3: '3',\n",
    "    4: '4',\n",
    "    5: '5',\n",
    "    6: '6',\n",
    "    7: '7',\n",
    "    8: '8',\n",
    "    9: '9'\n",
    "}\n",
    "\n",
    "batch_size = 128\n",
    "max_run_time = 0.02 # hours\n",
    "\n",
    "train_data, valid_data, test_data = create_dataloaders_MNIST(batch_size)\n",
    "model, loss_func, optimizer = create_train_objs()\n",
    "\n",
    "trainer = Trainer(model, train_data, valid_data, loss_func,\n",
    "                  optimizer, max_run_time, snapshot_name)\n",
    "\n",
    "trainer.train()\n",
    "del model, loss_func, optimizer, trainer\n",
    "torch.cuda.empty_cache()\n",
    "\n",
    "#loading in best model\n",
    "model_dict = torch.load(f'training_saves/{snapshot_name}')\n",
    "model = gradcam_model()\n",
    "model.load_state_dict(model_dict[\"MODEL_STATE\"])\n",
    "\n",
    "# printing testing accuracy\n",
    "print_model_test_stats(model, test_data, labels_map)\n",
    "\n",
    "# saving model\n",
    "torch.save(model.state_dict(), f'resnet_models/{snapshot_name}')\n",
    "print('Training & Testing Completed')\n",
    "print(f'Model saved at MNIST_models/{snapshot_name}')"
   ]
  },
  {
   "cell_type": "code",
   "execution_count": null,
   "id": "ca5d329a-c5de-4e1e-aecb-3cb0c17675b9",
   "metadata": {},
   "outputs": [],
   "source": [
    "#loading in best model\n",
    "model_dict = torch.load(f'training_saves/{snapshot_name}')\n",
    "model = resnet_model_modified()\n",
    "model.load_state_dict(model_dict[\"MODEL_STATE\"])\n",
    "\n",
    "# printing testing accuracy\n",
    "print_model_test_stats(model, test_data, 10, labels_map)\n",
    "\n",
    "# saving model\n",
    "torch.save(model.state_dict(), f'resnet_models/{snapshot_name}')\n",
    "print('Training & Testing Completed')\n",
    "print(f'Model saved at MNIST_models/{snapshot_name}')"
   ]
  },
  {
   "cell_type": "code",
   "execution_count": 1,
   "id": "6f437941-de6b-4e34-9d82-e3fae98ed5b4",
   "metadata": {},
   "outputs": [],
   "source": [
    "from trainer import *\n",
    "model = gradcam_model()"
   ]
  },
  {
   "cell_type": "code",
   "execution_count": 2,
   "id": "5510101a-46e6-4f69-84e6-e7fe080b0da9",
   "metadata": {},
   "outputs": [
    {
     "data": {
      "text/plain": [
       "gradcam_model(\n",
       "  (layer1): Sequential(\n",
       "    (0): Conv2d(1, 32, kernel_size=(5, 5), stride=(1, 1))\n",
       "    (1): BatchNorm2d(64, eps=1e-05, momentum=0.1, affine=True, track_running_stats=True)\n",
       "    (2): ReLU()\n",
       "  )\n",
       "  (layer2): Sequential(\n",
       "    (0): Conv2d(1, 32, kernel_size=(5, 5), stride=(1, 1))\n",
       "    (1): BatchNorm2d(64, eps=1e-05, momentum=0.1, affine=True, track_running_stats=True)\n",
       "    (2): ReLU()\n",
       "  )\n",
       "  (classifier): Sequential(\n",
       "    (0): MaxPool2d(kernel_size=3, stride=2, padding=0, dilation=1, ceil_mode=False)\n",
       "    (1): Dropout(p=0.2, inplace=False)\n",
       "    (2): Flatten(start_dim=1, end_dim=-1)\n",
       "    (3): Linear(in_features=9216, out_features=128, bias=True)\n",
       "    (4): Dropout(p=0.2, inplace=False)\n",
       "    (5): Linear(in_features=128, out_features=10, bias=True)\n",
       "  )\n",
       ")"
      ]
     },
     "execution_count": 2,
     "metadata": {},
     "output_type": "execute_result"
    }
   ],
   "source": [
    "model"
   ]
  },
  {
   "cell_type": "code",
   "execution_count": 3,
   "id": "aac97fb3-9b2f-4caf-803a-bb85eb016958",
   "metadata": {},
   "outputs": [
    {
     "name": "stdout",
     "output_type": "stream",
     "text": [
      "Model loaded on device: cuda:0\n",
      "Loading snapshot\n",
      "Resuming training from save at Epoch 5\n",
      "Training snapshot saved after Epoch: 7 | save_name: training_saves/grad_cam_model_fashion.pt\n",
      "Training snapshot saved after Epoch: 9 | save_name: training_saves/grad_cam_model_fashion.pt\n",
      "Training snapshot saved after Epoch: 10 | save_name: training_saves/grad_cam_model_fashion.pt\n",
      "\n",
      "Epoch: 10 | Batch_SZ: 128 | Steps: 422 | T_loss: 0.231 | V_loss: 0.238\n",
      "Current Train Time: 0.0 hours & 2.64 minutes\n",
      "Training snapshot saved after Epoch: 12 | save_name: training_saves/grad_cam_model_fashion.pt\n",
      "Training snapshot saved after Epoch: 14 | save_name: training_saves/grad_cam_model_fashion.pt\n",
      "Training snapshot saved after Epoch: 15 | save_name: training_saves/grad_cam_model_fashion.pt\n",
      "Training snapshot saved after Epoch: 17 | save_name: training_saves/grad_cam_model_fashion.pt\n",
      "\n",
      "Epoch: 20 | Batch_SZ: 128 | Steps: 422 | T_loss: 0.126 | V_loss: 0.248\n",
      "Current Train Time: 0.0 hours & 4.76 minutes\n",
      "\n",
      "Epoch: 30 | Batch_SZ: 128 | Steps: 422 | T_loss: 0.073 | V_loss: 0.308\n",
      "Current Train Time: 0.0 hours & 6.86 minutes\n",
      "\n",
      "Epoch: 40 | Batch_SZ: 128 | Steps: 422 | T_loss: 0.045 | V_loss: 0.384\n",
      "Current Train Time: 0.0 hours & 8.98 minutes\n",
      "Training completed -> Total train time: 552.05 seconds\n",
      "Test Loss: 0.278349\n",
      "\n",
      "Test Accuracy of Class: T-shirt/top        : 85.00% (850/1000)\n",
      "Test Accuracy of Class: Trouser            : 98.80% (988/1000)\n",
      "Test Accuracy of Class: Pullover           : 84.80% (848/1000)\n",
      "Test Accuracy of Class: Dress              : 87.40% (874/1000)\n",
      "Test Accuracy of Class: Coat               : 88.70% (887/1000)\n",
      "Test Accuracy of Class: Sandal             : 95.80% (958/1000)\n",
      "Test Accuracy of Class: Shirt              : 75.40% (754/1000)\n",
      "Test Accuracy of Class: Sneaker            : 98.30% (983/1000)\n",
      "Test Accuracy of Class: Bag                : 98.80% (988/1000)\n",
      "Test Accuracy of Class: Ankle boot         : 95.70% (957/1000)\n",
      "\n",
      "Test Accuracy (Overall): 90.87% (9087/10000)\n",
      "Training & Testing Completed\n",
      "Model saved at MNIST_models/grad_cam_model_fashion.pt\n"
     ]
    }
   ],
   "source": [
    "import torch\n",
    "from trainer import *\n",
    "\n",
    "\n",
    "snapshot_name = 'grad_cam_model_fashion.pt'\n",
    "allowed_classes = [0, 1, 2, 3, 4, 5, 6, 7, 8, 9]\n",
    "labels_map = {\n",
    "    0: 'T-shirt/top',\n",
    "    1: 'Trouser',\n",
    "    2: 'Pullover',\n",
    "    3: 'Dress',\n",
    "    4: 'Coat',\n",
    "    5: 'Sandal',\n",
    "    6: 'Shirt',\n",
    "    7: 'Sneaker',\n",
    "    8: 'Bag',\n",
    "    9: 'Ankle boot'\n",
    "}\n",
    "\n",
    "batch_size = 128\n",
    "max_run_time = 0.15 # hours\n",
    "\n",
    "train_data, valid_data, test_data = create_dataloaders_MNIST_fashion(batch_size)\n",
    "model, loss_func, optimizer = create_train_objs()\n",
    "\n",
    "trainer = Trainer(model, train_data, valid_data, loss_func,\n",
    "                  optimizer, max_run_time, snapshot_name)\n",
    "\n",
    "trainer.train()\n",
    "del model, loss_func, optimizer, trainer\n",
    "torch.cuda.empty_cache()\n",
    "\n",
    "#loading in best model\n",
    "model_dict = torch.load(f'training_saves/{snapshot_name}')\n",
    "model = gradcam_model()\n",
    "model.load_state_dict(model_dict[\"MODEL_STATE\"])\n",
    "\n",
    "# printing testing accuracy\n",
    "print_model_test_stats(model, test_data, labels_map)\n",
    "\n",
    "# saving model\n",
    "torch.save(model.state_dict(), f'resnet_models/{snapshot_name}')\n",
    "print('Training & Testing Completed')\n",
    "print(f'Model saved at MNIST_models/{snapshot_name}')"
   ]
  },
  {
   "cell_type": "code",
   "execution_count": null,
   "id": "8f25b308-c21a-45da-99c9-d29a7f38504c",
   "metadata": {},
   "outputs": [],
   "source": []
  }
 ],
 "metadata": {
  "kernelspec": {
   "display_name": "venv",
   "language": "python",
   "name": "python3"
  },
  "language_info": {
   "codemirror_mode": {
    "name": "ipython",
    "version": 3
   },
   "file_extension": ".py",
   "mimetype": "text/x-python",
   "name": "python",
   "nbconvert_exporter": "python",
   "pygments_lexer": "ipython3",
   "version": "3.10.9 (tags/v3.10.9:1dd9be6, Dec  6 2022, 20:01:21) [MSC v.1934 64 bit (AMD64)]"
  },
  "vscode": {
   "interpreter": {
    "hash": "56d22867d346137a858af224635421daa75b8ca5dd3197c9bf304264b2fbc7e8"
   }
  }
 },
 "nbformat": 4,
 "nbformat_minor": 5
}
