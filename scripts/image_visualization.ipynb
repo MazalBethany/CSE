{
 "cells": [
  {
   "cell_type": "code",
   "execution_count": 43,
   "id": "63210382-ce00-4b5f-9c75-e9d9d7ddc94a",
   "metadata": {},
   "outputs": [],
   "source": [
    "import glob\n",
    "from PIL import Image\n",
    "import os\n",
    "from IPython.display import display, clear_output\n",
    "\n",
    "choice = 1\n",
    "\n",
    "labelme_dir_path = '/workspace/adv_robustness/region_explainability/labelme'\n",
    "\n",
    "dataset_dir_map = {\n",
    "    0: 'MNIST_71',\n",
    "    1: 'MNIST_94',\n",
    "    2: 'MNIST_pullover_shirt',\n",
    "    3: 'MNIST_sneaker_sandal'\n",
    "    # 4: 'MNIST_sneaker_sandal_75',\n",
    "}\n",
    "\n",
    "dataset = dataset_dir_map[choice]"
   ]
  },
  {
   "cell_type": "code",
   "execution_count": 44,
   "id": "22955068-ef0a-4e09-b5ab-684acb945cfd",
   "metadata": {},
   "outputs": [],
   "source": [
    "os.chdir(os.path.join(labelme_dir_path, dataset))\n",
    "image_results_folders = glob.glob('results_*')\n",
    "\n",
    "should_quit = False\n",
    "skip_to_next_folder = False\n",
    "\n",
    "for folder in image_results_folders:\n",
    "    global should_quit\n",
    "    os.chdir(os.path.join(labelme_dir_path, dataset, folder))\n",
    "    images = glob.glob('*png')\n",
    "    \n",
    "    for image in images:\n",
    "        img = Image.open(image)\n",
    "        width, height = img.size\n",
    "        left = 100\n",
    "        top = height / 3\n",
    "        right = 1300\n",
    "        bottom = 2 * height / 3\n",
    "        if width != 1200:\n",
    "            img = img.crop((left, top, right, bottom))\n",
    "            img.save(image)\n",
    "        img.close()"
   ]
  },
  {
   "cell_type": "code",
   "execution_count": 45,
   "id": "c8cb86c2-027c-4a41-88de-8b387a852b60",
   "metadata": {},
   "outputs": [
    {
     "data": {
      "image/png": "[encoded data removed]",
      "text/plain": [
       "<PIL.PngImagePlugin.PngImageFile image mode=RGBA size=1200x466 at 0x7F85ED5FBBE0>"
      ]
     },
     "metadata": {},
     "output_type": "display_data"
    },
    {
     "name": "stdout",
     "output_type": "stream",
     "text": [
      "   image: seven_77.png\n",
      "attr_seg: results_slic40_gradcam\n"
     ]
    },
    {
     "name": "stdin",
     "output_type": "stream",
     "text": [
      "\n",
      "enter (q) to quit, (n) to go next folder, or just press enter to continue q\n"
     ]
    }
   ],
   "source": [
    "os.chdir(os.path.join(labelme_dir_path, dataset))\n",
    "image_results_folders = glob.glob('results_*')\n",
    "print(image_results_folders)\n",
    "\n",
    "should_quit = False\n",
    "skip_to_next_folder = False\n",
    "\n",
    "for folder in image_results_folders:\n",
    "    global should_quit\n",
    "    os.chdir(os.path.join(labelme_dir_path, dataset, folder))\n",
    "    images = glob.glob('*png')\n",
    "    \n",
    "    for image in images:\n",
    "        img = Image.open(image)\n",
    "        width, height = img.size\n",
    "        img.show()\n",
    "        print('   image:', image)\n",
    "        print('attr_seg:', folder)\n",
    "        what_to_do = input('\\nenter (q) to quit, (n) to go next folder, or just press enter to continue')\n",
    "        if what_to_do == 'q':\n",
    "            should_quit = True\n",
    "            break\n",
    "        elif what_to_do == 'n':\n",
    "            skip_to_next_folder = True\n",
    "            break\n",
    "        img.close()\n",
    "        clear_output(wait=True)\n",
    "            \n",
    "    if should_quit:\n",
    "        break\n",
    "    elif skip_to_next_folder:\n",
    "        skip_to_next_folder = False\n",
    "        continue"
   ]
  },
  {
   "cell_type": "code",
   "execution_count": null,
   "id": "da224a2e-f927-4a0b-98f7-7b3a2bb0d3ef",
   "metadata": {},
   "outputs": [],
   "source": []
  },
  {
   "cell_type": "code",
   "execution_count": null,
   "id": "181a5921-1225-4b21-a92e-8ca8cb756b3a",
   "metadata": {},
   "outputs": [],
   "source": []
  }
 ],
 "metadata": {
  "kernelspec": {
   "display_name": "Python 3 (ipykernel)",
   "language": "python",
   "name": "python3"
  },
  "language_info": {
   "codemirror_mode": {
    "name": "ipython",
    "version": 3
   },
   "file_extension": ".py",
   "mimetype": "text/x-python",
   "name": "python",
   "nbconvert_exporter": "python",
   "pygments_lexer": "ipython3",
   "version": "3.8.10"
  }
 },
 "nbformat": 4,
 "nbformat_minor": 5
}
