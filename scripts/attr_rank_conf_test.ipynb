{
 "cells": [
  {
   "cell_type": "code",
   "execution_count": 88,
   "id": "39ee1e05-a654-44c1-8c81-b9e9a232b673",
   "metadata": {},
   "outputs": [
    {
     "data": {
      "text/html": [
       "<pre style=\"white-space:pre;overflow-x:auto;line-height:normal;font-family:Menlo,'DejaVu Sans Mono',consolas,'Courier New',monospace\"><span style=\"color: #008080; text-decoration-color: #008080; font-weight: bold\">100</span>\n",
       "</pre>\n"
      ],
      "text/plain": [
       "\u001b[1;36m100\u001b[0m\n"
      ]
     },
     "metadata": {},
     "output_type": "display_data"
    }
   ],
   "source": [
    "import os\n",
    "import torch\n",
    "import glob\n",
    "from rich import print\n",
    "from math import floor, ceil\n",
    "import numpy as np\n",
    "\n",
    "choice = 0\n",
    "class_choice = 7\n",
    "dataset = {\n",
    "    0:'MNIST_71',\n",
    "    1:'MNIST_94'\n",
    "}\n",
    "\n",
    "os.chdir('/workspace/adv_robustness/region_explainability/labelme')\n",
    "cwd = os.getcwd()\n",
    "metric_path = os.path.join(cwd, dataset[choice], 'ranked_conf_test_outputs')\n",
    "\n",
    "os.chdir(metric_path)\n",
    "metrics_list = glob.glob(os.path.join(metric_path, '*.pt'))\n",
    "\n",
    "metrics_folder = [torch.load(i) for i in metrics_list]\n",
    "\n",
    "print(len(metrics_folder))\n"
   ]
  },
  {
   "cell_type": "code",
   "execution_count": 89,
   "id": "1df459cd-3539-4d25-a548-f1b64f31e5b4",
   "metadata": {},
   "outputs": [],
   "source": [
    "# print(floor(2.25), ceil(2.25)) \n",
    "\n",
    "# num_regions = 15\n",
    "\n",
    "# high_regions = [i for i in range(floor(num_regions/3))]\n",
    "# mid_regions = [i for i in range(floor(num_regions/3), floor(num_regions * 2  / 3))]\n",
    "# low_regions = [i for i in range(floor(num_regions * 2  / 3), num_regions)]\n",
    "\n",
    "# print(high_regions)\n",
    "# print(mid_regions)\n",
    "# print(low_regions)\n",
    "# High Attribution regions\n",
    "\n",
    "avg_conf_drop_high = list()\n",
    "avg_conf_drop_mid = list()\n",
    "avg_conf_drop_low = list()\n",
    "most_important_region_list = list()\n",
    "\n",
    "for metric in metrics_folder:\n",
    "    conf_drop_total = 0\n",
    "    most_important_region = 0\n",
    "    biggest_drop = 0\n",
    "    \n",
    "    original_conf = metric[-1]\n",
    "    num_regions = len(metric[0])\n",
    "    high_regions = [i for i in range(floor(num_regions/3))]\n",
    "    mid_regions = [i for i in range(floor(num_regions/3), floor(num_regions * 2  / 3))]\n",
    "    low_regions = [i for i in range(floor(num_regions * 2  / 3), num_regions)]\n",
    "\n",
    "    for mask_num in high_regions:\n",
    "        feature_output = metric[0][mask_num]\n",
    "        pred_conf = feature_output[class_choice]\n",
    "        drop = original_conf - pred_conf\n",
    "        if drop > biggest_drop:\n",
    "            biggest_drop = drop\n",
    "            most_important_region = mask_num\n",
    "        conf_drop_total += drop\n",
    "    \n",
    "    avg_conf_drop_high.append(conf_drop_total / len(high_regions))\n",
    "    conf_drop_total = 0\n",
    "    \n",
    "    \n",
    "    for mask_num in mid_regions:\n",
    "        feature_output = metric[0][mask_num]\n",
    "        pred_conf = feature_output[class_choice]\n",
    "        drop = original_conf - pred_conf\n",
    "        if drop > biggest_drop:\n",
    "            biggest_drop = drop\n",
    "            most_important_region = mask_num\n",
    "        conf_drop_total += drop\n",
    "    \n",
    "    avg_conf_drop_mid.append(conf_drop_total / len(mid_regions))\n",
    "    conf_drop_total = 0\n",
    "    \n",
    "    \n",
    "    for mask_num in low_regions:\n",
    "        feature_output = metric[0][mask_num]\n",
    "        pred_conf = feature_output[class_choice]\n",
    "        drop = original_conf - pred_conf\n",
    "        if drop > biggest_drop:\n",
    "            biggest_drop = drop\n",
    "            most_important_region = mask_num\n",
    "        conf_drop_total += drop\n",
    "    \n",
    "    avg_conf_drop_low.append(conf_drop_total / len(low_regions))\n",
    "    conf_drop_total = 0\n",
    "    most_important_region_list.append(most_important_region)\n",
    "\n"
   ]
  },
  {
   "cell_type": "code",
   "execution_count": 90,
   "id": "5483b134-340f-4ced-b9ac-ac3d32d52aa3",
   "metadata": {},
   "outputs": [
    {
     "data": {
      "text/html": [
       "<pre style=\"white-space:pre;overflow-x:auto;line-height:normal;font-family:Menlo,'DejaVu Sans Mono',consolas,'Courier New',monospace\"><span style=\"color: #008080; text-decoration-color: #008080; font-weight: bold\">0.12927185090382898</span>\n",
       "</pre>\n"
      ],
      "text/plain": [
       "\u001b[1;36m0.12927185090382898\u001b[0m\n"
      ]
     },
     "metadata": {},
     "output_type": "display_data"
    },
    {
     "data": {
      "text/html": [
       "<pre style=\"white-space:pre;overflow-x:auto;line-height:normal;font-family:Menlo,'DejaVu Sans Mono',consolas,'Courier New',monospace\"><span style=\"color: #008080; text-decoration-color: #008080; font-weight: bold\">0.018544602195421856</span>\n",
       "</pre>\n"
      ],
      "text/plain": [
       "\u001b[1;36m0.018544602195421856\u001b[0m\n"
      ]
     },
     "metadata": {},
     "output_type": "display_data"
    },
    {
     "data": {
      "text/html": [
       "<pre style=\"white-space:pre;overflow-x:auto;line-height:normal;font-family:Menlo,'DejaVu Sans Mono',consolas,'Courier New',monospace\"><span style=\"color: #008080; text-decoration-color: #008080; font-weight: bold\">0.01178167077898979</span>\n",
       "</pre>\n"
      ],
      "text/plain": [
       "\u001b[1;36m0.01178167077898979\u001b[0m\n"
      ]
     },
     "metadata": {},
     "output_type": "display_data"
    },
    {
     "data": {
      "text/html": [
       "<pre style=\"white-space:pre;overflow-x:auto;line-height:normal;font-family:Menlo,'DejaVu Sans Mono',consolas,'Courier New',monospace\"><span style=\"color: #008080; text-decoration-color: #008080; font-weight: bold\">1.64</span>\n",
       "</pre>\n"
      ],
      "text/plain": [
       "\u001b[1;36m1.64\u001b[0m\n"
      ]
     },
     "metadata": {},
     "output_type": "display_data"
    }
   ],
   "source": [
    "print(sum(avg_conf_drop_high) / len(avg_conf_drop_high))\n",
    "print(sum(avg_conf_drop_mid) / len(avg_conf_drop_mid))\n",
    "print(sum(avg_conf_drop_low) / len(avg_conf_drop_low))\n",
    "print(sum(most_important_region_list) / len(most_important_region_list))\n",
    "\n",
    "\n",
    "\n",
    "\n",
    "\n",
    "\n"
   ]
  },
  {
   "cell_type": "code",
   "execution_count": null,
   "id": "42b2b3e2-b6d2-4844-8115-96802c9c0375",
   "metadata": {},
   "outputs": [],
   "source": [
    "# Low Attribution regions\n",
    "\n",
    "\n",
    "\n",
    "\n"
   ]
  }
 ],
 "metadata": {
  "kernelspec": {
   "display_name": "Python 3 (ipykernel)",
   "language": "python",
   "name": "python3"
  },
  "language_info": {
   "codemirror_mode": {
    "name": "ipython",
    "version": 3
   },
   "file_extension": ".py",
   "mimetype": "text/x-python",
   "name": "python",
   "nbconvert_exporter": "python",
   "pygments_lexer": "ipython3",
   "version": "3.8.10"
  }
 },
 "nbformat": 4,
 "nbformat_minor": 5
}
